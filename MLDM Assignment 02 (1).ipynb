{
 "cells": [
  {
   "cell_type": "markdown",
   "metadata": {},
   "source": [
    "# Machine Learning and Data Mining\n",
    "# Assignment 2\n"
   ]
  },
  {
   "cell_type": "markdown",
   "metadata": {},
   "source": [
    "-----\n",
    "## Submitted by:                                                                        \n",
    "### Prinjeshkumar Snehalkumar Shah -                 220200696  (Mattrikelnummer)\n",
    "### Denish Jagdaishbhai Savani           -                 220200816  (Mattrikelnummer)\n",
    "### Shailesh Vasani                                -                 220200896  (Mattrikelnummer)\n",
    "### Mayurkumar Rameshbhai Vekariya-                 220200662  (Mattrikelnummer)\n",
    "---"
   ]
  },
  {
   "cell_type": "markdown",
   "metadata": {},
   "source": [
    "# (1) Setup"
   ]
  },
  {
   "cell_type": "code",
   "execution_count": 1,
   "metadata": {},
   "outputs": [],
   "source": [
    "# Importing required libraries \n",
    "\n",
    "import csv\n",
    "import numpy as np\n",
    "import itertools as it\n",
    "import matplotlib.pyplot as plt"
   ]
  },
  {
   "cell_type": "markdown",
   "metadata": {},
   "source": [
    "### Importing data from csv file as list"
   ]
  },
  {
   "cell_type": "code",
   "execution_count": 2,
   "metadata": {},
   "outputs": [
    {
     "data": {
      "text/plain": [
       "[['Color', 'Radius (cm)', 'Weight (grams)', 'Fruit (class)'],\n",
       " ['Green', '4.3', '122', 'Pear'],\n",
       " ['Green', '4.6', '152', 'Pear'],\n",
       " ['Green', '3.1', '85', 'Apple'],\n",
       " ['Green', '3.6', '173', 'Pear'],\n",
       " ['Green', '2.5', '65', 'Lemon'],\n",
       " ['Green', '2.5', '70', 'Apple'],\n",
       " ['Green', '2.7', '73', 'Apple'],\n",
       " ['Green', '4.5', '110', 'Pear'],\n",
       " ['Green', '2.5', '86', 'Apple'],\n",
       " ['Green', '2.4', '68', 'Lemon'],\n",
       " ['Green', '4.2', '126', 'Pear'],\n",
       " ['Red', '3.7', '101', 'Apple'],\n",
       " ['Red', '3.7', '100', 'Apple'],\n",
       " ['Red', '3.4', '80', 'Apple'],\n",
       " ['Red', '3.2', '79', 'Apple'],\n",
       " ['Red', '3.1', '69', 'Lemon'],\n",
       " ['Yellow', '2.1', '64', 'Apple'],\n",
       " ['Yellow', '2.6', '58', 'Lemon'],\n",
       " ['Yellow', '2.1', '40', 'Lemon'],\n",
       " ['Yellow', '2.3', '60', 'Lemon'],\n",
       " ['Yellow', '4.2', '105', 'Pear'],\n",
       " ['Yellow', '2.1', '40', 'Lemon'],\n",
       " ['Yellow', '3.2', '64', 'Lemon'],\n",
       " ['Yellow', '2.9', '53', 'Lemon'],\n",
       " ['Yellow', '4.1', '135', 'Pear'],\n",
       " ['Yellow', '5.2', '142', 'Pear'],\n",
       " ['Yellow', '2.3', '60', 'Lemon'],\n",
       " ['Yellow', '0', '137', 'Pear'],\n",
       " ['Yellow', '3', '98', 'Apple'],\n",
       " ['Yellow', '2.4', '0', 'Lemon'],\n",
       " ['Yellow', '4.1', '56', 'Lemon'],\n",
       " ['Yellow', '4.1', '80', 'Apple'],\n",
       " ['Yellow', '5.2', '141', 'Pear']]"
      ]
     },
     "execution_count": 2,
     "metadata": {},
     "output_type": "execute_result"
    }
   ],
   "source": [
    "Data = []\n",
    "with open('assignment02.csv') as file:\n",
    "    datafile = csv.reader(file, delimiter=',')\n",
    "    for i in datafile:\n",
    "        Data.append(i)\n",
    "Data"
   ]
  },
  {
   "cell_type": "code",
   "execution_count": 3,
   "metadata": {},
   "outputs": [
    {
     "name": "stdout",
     "output_type": "stream",
     "text": [
      "<class 'list'>\n"
     ]
    }
   ],
   "source": [
    "print(type(Data))"
   ]
  },
  {
   "cell_type": "markdown",
   "metadata": {},
   "source": [
    "### Converting to numpy array"
   ]
  },
  {
   "cell_type": "code",
   "execution_count": 4,
   "metadata": {},
   "outputs": [
    {
     "data": {
      "text/plain": [
       "array([['Color', 'Radius (cm)', 'Weight (grams)', 'Fruit (class)'],\n",
       "       ['Green', '4.3', '122', 'Pear'],\n",
       "       ['Green', '4.6', '152', 'Pear'],\n",
       "       ['Green', '3.1', '85', 'Apple'],\n",
       "       ['Green', '3.6', '173', 'Pear'],\n",
       "       ['Green', '2.5', '65', 'Lemon'],\n",
       "       ['Green', '2.5', '70', 'Apple'],\n",
       "       ['Green', '2.7', '73', 'Apple'],\n",
       "       ['Green', '4.5', '110', 'Pear'],\n",
       "       ['Green', '2.5', '86', 'Apple'],\n",
       "       ['Green', '2.4', '68', 'Lemon'],\n",
       "       ['Green', '4.2', '126', 'Pear'],\n",
       "       ['Red', '3.7', '101', 'Apple'],\n",
       "       ['Red', '3.7', '100', 'Apple'],\n",
       "       ['Red', '3.4', '80', 'Apple'],\n",
       "       ['Red', '3.2', '79', 'Apple'],\n",
       "       ['Red', '3.1', '69', 'Lemon'],\n",
       "       ['Yellow', '2.1', '64', 'Apple'],\n",
       "       ['Yellow', '2.6', '58', 'Lemon'],\n",
       "       ['Yellow', '2.1', '40', 'Lemon'],\n",
       "       ['Yellow', '2.3', '60', 'Lemon'],\n",
       "       ['Yellow', '4.2', '105', 'Pear'],\n",
       "       ['Yellow', '2.1', '40', 'Lemon'],\n",
       "       ['Yellow', '3.2', '64', 'Lemon'],\n",
       "       ['Yellow', '2.9', '53', 'Lemon'],\n",
       "       ['Yellow', '4.1', '135', 'Pear'],\n",
       "       ['Yellow', '5.2', '142', 'Pear'],\n",
       "       ['Yellow', '2.3', '60', 'Lemon'],\n",
       "       ['Yellow', '0', '137', 'Pear'],\n",
       "       ['Yellow', '3', '98', 'Apple'],\n",
       "       ['Yellow', '2.4', '0', 'Lemon'],\n",
       "       ['Yellow', '4.1', '56', 'Lemon'],\n",
       "       ['Yellow', '4.1', '80', 'Apple'],\n",
       "       ['Yellow', '5.2', '141', 'Pear']], dtype='<U14')"
      ]
     },
     "execution_count": 4,
     "metadata": {},
     "output_type": "execute_result"
    }
   ],
   "source": [
    "data = np.array(Data)\n",
    "data"
   ]
  },
  {
   "cell_type": "code",
   "execution_count": 5,
   "metadata": {
    "scrolled": true
   },
   "outputs": [
    {
     "name": "stdout",
     "output_type": "stream",
     "text": [
      "<class 'numpy.ndarray'>\n",
      "(34, 4)\n"
     ]
    }
   ],
   "source": [
    "print(type(data))\n",
    "print(np.shape(data))"
   ]
  },
  {
   "cell_type": "markdown",
   "metadata": {},
   "source": [
    "-------\n",
    "# (2)Plotting Exercise"
   ]
  },
  {
   "cell_type": "markdown",
   "metadata": {},
   "source": [
    "------\n",
    "###  (a)Creating Scatter-plot"
   ]
  },
  {
   "cell_type": "code",
   "execution_count": 6,
   "metadata": {},
   "outputs": [],
   "source": [
    "Applelist = []\n",
    "Lemonlist = []\n",
    "Pearlist = []"
   ]
  },
  {
   "cell_type": "code",
   "execution_count": 7,
   "metadata": {},
   "outputs": [],
   "source": [
    "for n in range(np.shape(data)[0]):\n",
    "    if data[n,3] == 'Apple':\n",
    "        Applelist.append(data[n,1:3])\n",
    "    elif data[n,3] == 'Lemon':\n",
    "        Lemonlist.append(data[n,1:3])\n",
    "    elif data[n,3] == 'Pear':\n",
    "        Pearlist.append(data[n,1:3])"
   ]
  },
  {
   "cell_type": "code",
   "execution_count": 8,
   "metadata": {},
   "outputs": [],
   "source": [
    "Applelist = np.array(Applelist).astype(float)\n",
    "Lemonlist = np.array(Lemonlist).astype(float)\n",
    "Pearlist = np.array(Pearlist).astype(float)"
   ]
  },
  {
   "cell_type": "code",
   "execution_count": 17,
   "metadata": {},
   "outputs": [
    {
     "data": {
      "image/png": "[encoded data removed]",
      "text/plain": [
       "<Figure size 432x288 with 1 Axes>"
      ]
     },
     "metadata": {
      "needs_background": "light"
     },
     "output_type": "display_data"
    }
   ],
   "source": [
    "fig = plt.scatter(Lemonlist[:,0],Lemonlist[:,1],marker='o',color='k')\n",
    "fig = plt.scatter(Applelist[:,0],Applelist[:,1],marker='+',color='k')\n",
    "fig = plt.scatter(Pearlist[:,0],Pearlist[:,1],marker='x',color='k')\n",
    "plt.xlabel('Radius(cm)')\n",
    "plt.ylabel('Weight(gram)')\n",
    "plt.grid()"
   ]
  },
  {
   "cell_type": "markdown",
   "metadata": {},
   "source": [
    "----\n",
    "###  (b) Creating bar charts"
   ]
  },
  {
   "cell_type": "code",
   "execution_count": 115,
   "metadata": {},
   "outputs": [],
   "source": [
    "# Separation of data with their colour attributes \n",
    "Green = []\n",
    "Red = []\n",
    "Yellow = []\n",
    "for i in data[1:,:]:\n",
    "    if i[0] == 'Green':\n",
    "        Green.append(i)\n",
    "    elif i[0] == 'Red':\n",
    "        Red.append(i)\n",
    "    elif i[0] == 'Yellow':\n",
    "        Yellow.append(i)"
   ]
  },
  {
   "cell_type": "code",
   "execution_count": 116,
   "metadata": {},
   "outputs": [],
   "source": [
    "# Converting list to numpy array\n",
    "Green = np.array(Green)\n",
    "Red = np.array(Red)\n",
    "Yellow = np.array(Yellow)"
   ]
  },
  {
   "cell_type": "code",
   "execution_count": 117,
   "metadata": {},
   "outputs": [],
   "source": [
    "# Counting number of labels in each colour attribute\n",
    "for i in range(len(Green)):\n",
    "    Apples_G = Green[:,3].tolist().count('Apple')\n",
    "    Pears_G = Green[:,3].tolist().count('Pear')\n",
    "    Lemons_G = Green[:,3].tolist().count('Lemon')\n",
    "    \n",
    "for i in range(len(Red)):\n",
    "    Apples_R = Red[:,3].tolist().count('Apple')\n",
    "    Pears_R = Red[:,3].tolist().count('Pear')\n",
    "    Lemons_R = Red[:,3].tolist().count('Lemon')\n",
    "\n",
    "for i in range(len(Yellow)):\n",
    "    Apples_Y = Yellow[:,3].tolist().count('Apple')\n",
    "    Pears_Y = Yellow[:,3].tolist().count('Pear')\n",
    "    Lemons_Y = Yellow[:,3].tolist().count('Lemon')"
   ]
  },
  {
   "cell_type": "code",
   "execution_count": 120,
   "metadata": {},
   "outputs": [],
   "source": [
    "# Listing frequency of labels in each colour attribute in a sequence of Green, Red and Yellow\n",
    "Apples = [Apples_G,Apples_R,Apples_Y]\n",
    "Pears = [Pears_G,Pears_R,Pears_Y]\n",
    "Lemons = [Lemons_G,Lemons_R,Lemons_Y]"
   ]
  },
  {
   "cell_type": "code",
   "execution_count": 124,
   "metadata": {},
   "outputs": [
    {
     "name": "stdout",
     "output_type": "stream",
     "text": [
      "Colour attributes: ['Green' 'Red' 'Yellow']\n",
      "Apple frequency: [4, 4, 3]\n",
      "Pear frequency: [5, 0, 5]\n",
      "Lemon frequency: [2, 1, 9]\n"
     ]
    }
   ],
   "source": [
    "print('Colour attributes:',np.unique(data[1:,0]))\n",
    "print('Apple frequency:',Apples)\n",
    "print('Pear frequency:',Pears)\n",
    "print('Lemon frequency:',Lemons)"
   ]
  },
  {
   "cell_type": "code",
   "execution_count": 125,
   "metadata": {},
   "outputs": [],
   "source": [
    "# input parameters for bar chart\n",
    "width = 0.2\n",
    "xlabels = np.unique(data[1:,0])\n",
    "X = np.arange(3)"
   ]
  },
  {
   "cell_type": "code",
   "execution_count": 126,
   "metadata": {},
   "outputs": [
    {
     "data": {
      "image/png": "[encoded data removed]",
      "text/plain": [
       "<Figure size 432x288 with 1 Axes>"
      ]
     },
     "metadata": {
      "needs_background": "light"
     },
     "output_type": "display_data"
    }
   ],
   "source": [
    "# input parameters for bar chart\n",
    "width = 0.2\n",
    "xlabels = np.unique(data[1:,0])\n",
    "X = np.arange(3)\n",
    "\n",
    "# creating bar chart using colour frequency of fruit classes/Labels \n",
    "plt.bar(X,Apples,width=width,label='Apples',hatch='//',color='grey')\n",
    "plt.bar(X + width,Pears,width=width,label='Pear',hatch='.',color='grey')\n",
    "plt.bar(X + 2*width,Lemons,width=width,label='Lemon',hatch='\\\\',color='grey')\n",
    "\n",
    "plt.xlabel('Colors')\n",
    "plt.ylabel('frequency')\n",
    "plt.title('Bar chart')\n",
    "plt.xticks(X+width,xlabels)\n",
    "plt.legend()\n",
    "plt.show()"
   ]
  },
  {
   "cell_type": "markdown",
   "metadata": {},
   "source": [
    "---"
   ]
  },
  {
   "cell_type": "markdown",
   "metadata": {},
   "source": [
    "# Ex 3 Processing"
   ]
  },
  {
   "cell_type": "markdown",
   "metadata": {},
   "source": [
    "---"
   ]
  },
  {
   "cell_type": "markdown",
   "metadata": {},
   "source": [
    "### (a)"
   ]
  },
  {
   "cell_type": "code",
   "execution_count": 21,
   "metadata": {},
   "outputs": [
    {
     "data": {
      "text/plain": [
       "numpy.ndarray"
      ]
     },
     "execution_count": 21,
     "metadata": {},
     "output_type": "execute_result"
    }
   ],
   "source": [
    "type(data)"
   ]
  },
  {
   "cell_type": "code",
   "execution_count": 24,
   "metadata": {},
   "outputs": [
    {
     "data": {
      "text/plain": [
       "array([['Color', 'Radius (cm)', 'Weight (grams)', 'Fruit (class)'],\n",
       "       ['Green', '2.4', '68', 'Lemon'],\n",
       "       ['Green', '2.5', '65', 'Lemon'],\n",
       "       ['Green', '2.5', '70', 'Apple'],\n",
       "       ['Green', '2.5', '86', 'Apple'],\n",
       "       ['Green', '2.7', '73', 'Apple'],\n",
       "       ['Green', '3.1', '85', 'Apple'],\n",
       "       ['Green', '3.6', '173', 'Pear'],\n",
       "       ['Green', '4.2', '126', 'Pear'],\n",
       "       ['Green', '4.3', '122', 'Pear'],\n",
       "       ['Green', '4.5', '110', 'Pear'],\n",
       "       ['Green', '4.6', '152', 'Pear'],\n",
       "       ['Red', '3.1', '69', 'Lemon'],\n",
       "       ['Red', '3.2', '79', 'Apple'],\n",
       "       ['Red', '3.4', '80', 'Apple'],\n",
       "       ['Red', '3.7', '100', 'Apple'],\n",
       "       ['Red', '3.7', '101', 'Apple'],\n",
       "       ['Yellow', '0', '137', 'Pear'],\n",
       "       ['Yellow', '2.1', '40', 'Lemon'],\n",
       "       ['Yellow', '2.1', '64', 'Apple'],\n",
       "       ['Yellow', '2.3', '60', 'Lemon'],\n",
       "       ['Yellow', '2.4', '0', 'Lemon'],\n",
       "       ['Yellow', '2.6', '58', 'Lemon'],\n",
       "       ['Yellow', '2.9', '53', 'Lemon'],\n",
       "       ['Yellow', '3', '98', 'Apple'],\n",
       "       ['Yellow', '3.2', '64', 'Lemon'],\n",
       "       ['Yellow', '4.1', '135', 'Pear'],\n",
       "       ['Yellow', '4.1', '56', 'Lemon'],\n",
       "       ['Yellow', '4.1', '80', 'Apple'],\n",
       "       ['Yellow', '4.2', '105', 'Pear'],\n",
       "       ['Yellow', '5.2', '141', 'Pear'],\n",
       "       ['Yellow', '5.2', '142', 'Pear']], dtype='<U14')"
      ]
     },
     "execution_count": 24,
     "metadata": {},
     "output_type": "execute_result"
    }
   ],
   "source": [
    "uniquedata = np.unique(data,axis=0)\n",
    "uniquedata"
   ]
  },
  {
   "cell_type": "code",
   "execution_count": 23,
   "metadata": {},
   "outputs": [
    {
     "data": {
      "text/plain": [
       "(32, 4)"
      ]
     },
     "execution_count": 23,
     "metadata": {},
     "output_type": "execute_result"
    }
   ],
   "source": [
    "np.shape(uniquedata)"
   ]
  },
  {
   "cell_type": "markdown",
   "metadata": {},
   "source": [
    "---\n",
    "### (b)"
   ]
  },
  {
   "cell_type": "code",
   "execution_count": 25,
   "metadata": {},
   "outputs": [],
   "source": [
    "Apple = []\n",
    "Pear = []\n",
    "Lemon = []\n",
    "for i in data[1:,1:]:\n",
    "    if i[2] == 'Apple':\n",
    "        Apple.append(i[:2])\n",
    "    elif i[2] == 'Pear':\n",
    "        Pear.append(i[:2])\n",
    "    elif i[2] == 'Lemon':\n",
    "        Lemon.append(i[:2])"
   ]
  },
  {
   "cell_type": "code",
   "execution_count": 26,
   "metadata": {},
   "outputs": [],
   "source": [
    "Apple = np.array(Apple).astype(float)\n",
    "Pear = np.array(Pear).astype(float)\n",
    "Lemon = np.array(Lemon).astype(float)"
   ]
  },
  {
   "cell_type": "code",
   "execution_count": 27,
   "metadata": {},
   "outputs": [],
   "source": [
    "Pearmean = Pear[:,0].mean().round()"
   ]
  },
  {
   "cell_type": "code",
   "execution_count": 28,
   "metadata": {},
   "outputs": [],
   "source": [
    "Lemonmean = Lemon[:,1].mean().round()"
   ]
  },
  {
   "cell_type": "code",
   "execution_count": 29,
   "metadata": {},
   "outputs": [],
   "source": [
    "for i in range(len(data[:,1])):\n",
    "    if data[:,1][i] == '0':\n",
    "            data[:,1][i] = Pearmean"
   ]
  },
  {
   "cell_type": "code",
   "execution_count": 30,
   "metadata": {},
   "outputs": [],
   "source": [
    "for i in range(len(data[:,1])):\n",
    "    if data[:,2][i] == '0':\n",
    "            data[:,2][i] = Lemonmean"
   ]
  },
  {
   "cell_type": "code",
   "execution_count": 31,
   "metadata": {},
   "outputs": [
    {
     "data": {
      "text/plain": [
       "array([['Color', 'Radius (cm)', 'Weight (grams)', 'Fruit (class)'],\n",
       "       ['Green', '4.3', '122', 'Pear'],\n",
       "       ['Green', '4.6', '152', 'Pear'],\n",
       "       ['Green', '3.1', '85', 'Apple'],\n",
       "       ['Green', '3.6', '173', 'Pear'],\n",
       "       ['Green', '2.5', '65', 'Lemon'],\n",
       "       ['Green', '2.5', '70', 'Apple'],\n",
       "       ['Green', '2.7', '73', 'Apple'],\n",
       "       ['Green', '4.5', '110', 'Pear'],\n",
       "       ['Green', '2.5', '86', 'Apple'],\n",
       "       ['Green', '2.4', '68', 'Lemon'],\n",
       "       ['Green', '4.2', '126', 'Pear'],\n",
       "       ['Red', '3.7', '101', 'Apple'],\n",
       "       ['Red', '3.7', '100', 'Apple'],\n",
       "       ['Red', '3.4', '80', 'Apple'],\n",
       "       ['Red', '3.2', '79', 'Apple'],\n",
       "       ['Red', '3.1', '69', 'Lemon'],\n",
       "       ['Yellow', '2.1', '64', 'Apple'],\n",
       "       ['Yellow', '2.6', '58', 'Lemon'],\n",
       "       ['Yellow', '2.1', '40', 'Lemon'],\n",
       "       ['Yellow', '2.3', '60', 'Lemon'],\n",
       "       ['Yellow', '4.2', '105', 'Pear'],\n",
       "       ['Yellow', '2.1', '40', 'Lemon'],\n",
       "       ['Yellow', '3.2', '64', 'Lemon'],\n",
       "       ['Yellow', '2.9', '53', 'Lemon'],\n",
       "       ['Yellow', '4.1', '135', 'Pear'],\n",
       "       ['Yellow', '5.2', '142', 'Pear'],\n",
       "       ['Yellow', '2.3', '60', 'Lemon'],\n",
       "       ['Yellow', '4.0', '137', 'Pear'],\n",
       "       ['Yellow', '3', '98', 'Apple'],\n",
       "       ['Yellow', '2.4', '53.0', 'Lemon'],\n",
       "       ['Yellow', '4.1', '56', 'Lemon'],\n",
       "       ['Yellow', '4.1', '80', 'Apple'],\n",
       "       ['Yellow', '5.2', '141', 'Pear']], dtype='<U14')"
      ]
     },
     "execution_count": 31,
     "metadata": {},
     "output_type": "execute_result"
    }
   ],
   "source": [
    "data"
   ]
  },
  {
   "cell_type": "markdown",
   "metadata": {},
   "source": [
    "---\n",
    "### (c)"
   ]
  },
  {
   "cell_type": "code",
   "execution_count": 32,
   "metadata": {},
   "outputs": [
    {
     "data": {
      "text/plain": [
       "array([['Color', 'Radius (cm)', 'Weight (grams)', 'Fruit (class)'],\n",
       "       ['Green', '2.4', '68', 'Lemon'],\n",
       "       ['Green', '2.5', '65', 'Lemon'],\n",
       "       ['Green', '2.5', '70', 'Apple'],\n",
       "       ['Green', '2.5', '86', 'Apple'],\n",
       "       ['Green', '2.7', '73', 'Apple'],\n",
       "       ['Green', '3.1', '85', 'Apple'],\n",
       "       ['Green', '3.6', '173', 'Pear'],\n",
       "       ['Green', '4.2', '126', 'Pear'],\n",
       "       ['Green', '4.3', '122', 'Pear'],\n",
       "       ['Green', '4.5', '110', 'Pear'],\n",
       "       ['Green', '4.6', '152', 'Pear'],\n",
       "       ['Red', '3.1', '69', 'Lemon'],\n",
       "       ['Red', '3.2', '79', 'Apple'],\n",
       "       ['Red', '3.4', '80', 'Apple'],\n",
       "       ['Red', '3.7', '100', 'Apple'],\n",
       "       ['Red', '3.7', '101', 'Apple'],\n",
       "       ['Yellow', '0', '137', 'Pear'],\n",
       "       ['Yellow', '2.1', '40', 'Lemon'],\n",
       "       ['Yellow', '2.1', '64', 'Apple'],\n",
       "       ['Yellow', '2.3', '60', 'Lemon'],\n",
       "       ['Yellow', '2.4', '0', 'Lemon'],\n",
       "       ['Yellow', '2.6', '58', 'Lemon'],\n",
       "       ['Yellow', '2.9', '53', 'Lemon'],\n",
       "       ['Yellow', '3', '98', 'Apple'],\n",
       "       ['Yellow', '3.2', '64', 'Lemon'],\n",
       "       ['Yellow', '4.1', '135', 'Pear'],\n",
       "       ['Yellow', '4.1', '56', 'Lemon'],\n",
       "       ['Yellow', '4.1', '80', 'Apple'],\n",
       "       ['Yellow', '4.2', '105', 'Pear'],\n",
       "       ['Yellow', '5.2', '141', 'Pear'],\n",
       "       ['Yellow', '5.2', '142', 'Pear']], dtype='<U14')"
      ]
     },
     "execution_count": 32,
     "metadata": {},
     "output_type": "execute_result"
    }
   ],
   "source": [
    "uniquedata"
   ]
  },
  {
   "cell_type": "code",
   "execution_count": 33,
   "metadata": {},
   "outputs": [
    {
     "data": {
      "text/plain": [
       "array(['Green', 'Green', 'Green', 'Green', 'Green', 'Green', 'Green',\n",
       "       'Green', 'Green', 'Green', 'Green', 'Red', 'Red', 'Red', 'Red',\n",
       "       'Red', 'Yellow', 'Yellow', 'Yellow', 'Yellow', 'Yellow', 'Yellow',\n",
       "       'Yellow', 'Yellow', 'Yellow', 'Yellow', 'Yellow', 'Yellow',\n",
       "       'Yellow', 'Yellow', 'Yellow'], dtype='<U14')"
      ]
     },
     "execution_count": 33,
     "metadata": {},
     "output_type": "execute_result"
    }
   ],
   "source": [
    "colours = uniquedata[1:,0]\n",
    "colours"
   ]
  },
  {
   "cell_type": "code",
   "execution_count": 34,
   "metadata": {},
   "outputs": [],
   "source": [
    "colourcatagory = np.zeros((np.shape(colours)[0],3)) "
   ]
  },
  {
   "cell_type": "code",
   "execution_count": 35,
   "metadata": {},
   "outputs": [],
   "source": [
    "for n in range(len(colours)):\n",
    "    if colours[n] == 'Green':\n",
    "        colourcatagory[n,0] = 1\n",
    "    elif colours[n] == 'Red':\n",
    "        colourcatagory[n,1] = 1\n",
    "    elif colours[n] == 'Yellow':\n",
    "        colourcatagory[n,2] = 1"
   ]
  },
  {
   "cell_type": "code",
   "execution_count": 36,
   "metadata": {},
   "outputs": [
    {
     "data": {
      "text/plain": [
       "array([[1., 0., 0.],\n",
       "       [1., 0., 0.],\n",
       "       [1., 0., 0.],\n",
       "       [1., 0., 0.],\n",
       "       [1., 0., 0.],\n",
       "       [1., 0., 0.],\n",
       "       [1., 0., 0.],\n",
       "       [1., 0., 0.],\n",
       "       [1., 0., 0.],\n",
       "       [1., 0., 0.],\n",
       "       [1., 0., 0.],\n",
       "       [0., 1., 0.],\n",
       "       [0., 1., 0.],\n",
       "       [0., 1., 0.],\n",
       "       [0., 1., 0.],\n",
       "       [0., 1., 0.],\n",
       "       [0., 0., 1.],\n",
       "       [0., 0., 1.],\n",
       "       [0., 0., 1.],\n",
       "       [0., 0., 1.],\n",
       "       [0., 0., 1.],\n",
       "       [0., 0., 1.],\n",
       "       [0., 0., 1.],\n",
       "       [0., 0., 1.],\n",
       "       [0., 0., 1.],\n",
       "       [0., 0., 1.],\n",
       "       [0., 0., 1.],\n",
       "       [0., 0., 1.],\n",
       "       [0., 0., 1.],\n",
       "       [0., 0., 1.],\n",
       "       [0., 0., 1.]])"
      ]
     },
     "execution_count": 36,
     "metadata": {},
     "output_type": "execute_result"
    }
   ],
   "source": [
    "colourcatagory"
   ]
  },
  {
   "cell_type": "code",
   "execution_count": 37,
   "metadata": {},
   "outputs": [
    {
     "data": {
      "text/plain": [
       "array(['Color', 'Radius (cm)', 'Weight (grams)', 'Fruit (class)'],\n",
       "      dtype='<U14')"
      ]
     },
     "execution_count": 37,
     "metadata": {},
     "output_type": "execute_result"
    }
   ],
   "source": [
    "titles = uniquedata[0,:]\n",
    "titles"
   ]
  },
  {
   "cell_type": "code",
   "execution_count": 38,
   "metadata": {},
   "outputs": [
    {
     "name": "stdout",
     "output_type": "stream",
     "text": [
      "['Green' 'Red' 'Yellow']\n"
     ]
    }
   ],
   "source": [
    "categories = np.unique(uniquedata[1:,0])\n",
    "print(categories)"
   ]
  },
  {
   "cell_type": "code",
   "execution_count": 39,
   "metadata": {},
   "outputs": [
    {
     "data": {
      "text/plain": [
       "array([['Green', 'Red', 'Yellow', 'Color', 'Radius (cm)',\n",
       "        'Weight (grams)', 'Fruit (class)']], dtype='<U14')"
      ]
     },
     "execution_count": 39,
     "metadata": {},
     "output_type": "execute_result"
    }
   ],
   "source": [
    "Title = np.concatenate((categories,titles),axis=0)\n",
    "Title = np.reshape(Title,(1,7))\n",
    "Title"
   ]
  },
  {
   "cell_type": "code",
   "execution_count": 40,
   "metadata": {},
   "outputs": [
    {
     "data": {
      "text/plain": [
       "array([['Green', '2.4', '68', 'Lemon'],\n",
       "       ['Green', '2.5', '65', 'Lemon'],\n",
       "       ['Green', '2.5', '70', 'Apple'],\n",
       "       ['Green', '2.5', '86', 'Apple'],\n",
       "       ['Green', '2.7', '73', 'Apple'],\n",
       "       ['Green', '3.1', '85', 'Apple'],\n",
       "       ['Green', '3.6', '173', 'Pear'],\n",
       "       ['Green', '4.2', '126', 'Pear'],\n",
       "       ['Green', '4.3', '122', 'Pear'],\n",
       "       ['Green', '4.5', '110', 'Pear'],\n",
       "       ['Green', '4.6', '152', 'Pear'],\n",
       "       ['Red', '3.1', '69', 'Lemon'],\n",
       "       ['Red', '3.2', '79', 'Apple'],\n",
       "       ['Red', '3.4', '80', 'Apple'],\n",
       "       ['Red', '3.7', '100', 'Apple'],\n",
       "       ['Red', '3.7', '101', 'Apple'],\n",
       "       ['Yellow', '0', '137', 'Pear'],\n",
       "       ['Yellow', '2.1', '40', 'Lemon'],\n",
       "       ['Yellow', '2.1', '64', 'Apple'],\n",
       "       ['Yellow', '2.3', '60', 'Lemon'],\n",
       "       ['Yellow', '2.4', '0', 'Lemon'],\n",
       "       ['Yellow', '2.6', '58', 'Lemon'],\n",
       "       ['Yellow', '2.9', '53', 'Lemon'],\n",
       "       ['Yellow', '3', '98', 'Apple'],\n",
       "       ['Yellow', '3.2', '64', 'Lemon'],\n",
       "       ['Yellow', '4.1', '135', 'Pear'],\n",
       "       ['Yellow', '4.1', '56', 'Lemon'],\n",
       "       ['Yellow', '4.1', '80', 'Apple'],\n",
       "       ['Yellow', '4.2', '105', 'Pear'],\n",
       "       ['Yellow', '5.2', '141', 'Pear'],\n",
       "       ['Yellow', '5.2', '142', 'Pear']], dtype='<U14')"
      ]
     },
     "execution_count": 40,
     "metadata": {},
     "output_type": "execute_result"
    }
   ],
   "source": [
    "onlydata = uniquedata[1:,:]\n",
    "onlydata"
   ]
  },
  {
   "cell_type": "code",
   "execution_count": 41,
   "metadata": {},
   "outputs": [
    {
     "data": {
      "text/plain": [
       "(31, 7)"
      ]
     },
     "execution_count": 41,
     "metadata": {},
     "output_type": "execute_result"
    }
   ],
   "source": [
    "Data = np.concatenate((colourcatagory,onlydata),axis = 1)\n",
    "np.shape(Data)"
   ]
  },
  {
   "cell_type": "code",
   "execution_count": 42,
   "metadata": {},
   "outputs": [],
   "source": [
    "Results = np.concatenate((Title,Data),axis=0)"
   ]
  },
  {
   "cell_type": "code",
   "execution_count": 43,
   "metadata": {},
   "outputs": [
    {
     "data": {
      "text/plain": [
       "array([['Green', 'Red', 'Yellow', 'Color', 'Radius (cm)',\n",
       "        'Weight (grams)', 'Fruit (class)'],\n",
       "       ['1.0', '0.0', '0.0', 'Green', '2.4', '68', 'Lemon'],\n",
       "       ['1.0', '0.0', '0.0', 'Green', '2.5', '65', 'Lemon'],\n",
       "       ['1.0', '0.0', '0.0', 'Green', '2.5', '70', 'Apple'],\n",
       "       ['1.0', '0.0', '0.0', 'Green', '2.5', '86', 'Apple'],\n",
       "       ['1.0', '0.0', '0.0', 'Green', '2.7', '73', 'Apple'],\n",
       "       ['1.0', '0.0', '0.0', 'Green', '3.1', '85', 'Apple'],\n",
       "       ['1.0', '0.0', '0.0', 'Green', '3.6', '173', 'Pear'],\n",
       "       ['1.0', '0.0', '0.0', 'Green', '4.2', '126', 'Pear'],\n",
       "       ['1.0', '0.0', '0.0', 'Green', '4.3', '122', 'Pear'],\n",
       "       ['1.0', '0.0', '0.0', 'Green', '4.5', '110', 'Pear'],\n",
       "       ['1.0', '0.0', '0.0', 'Green', '4.6', '152', 'Pear'],\n",
       "       ['0.0', '1.0', '0.0', 'Red', '3.1', '69', 'Lemon'],\n",
       "       ['0.0', '1.0', '0.0', 'Red', '3.2', '79', 'Apple'],\n",
       "       ['0.0', '1.0', '0.0', 'Red', '3.4', '80', 'Apple'],\n",
       "       ['0.0', '1.0', '0.0', 'Red', '3.7', '100', 'Apple'],\n",
       "       ['0.0', '1.0', '0.0', 'Red', '3.7', '101', 'Apple'],\n",
       "       ['0.0', '0.0', '1.0', 'Yellow', '0', '137', 'Pear'],\n",
       "       ['0.0', '0.0', '1.0', 'Yellow', '2.1', '40', 'Lemon'],\n",
       "       ['0.0', '0.0', '1.0', 'Yellow', '2.1', '64', 'Apple'],\n",
       "       ['0.0', '0.0', '1.0', 'Yellow', '2.3', '60', 'Lemon'],\n",
       "       ['0.0', '0.0', '1.0', 'Yellow', '2.4', '0', 'Lemon'],\n",
       "       ['0.0', '0.0', '1.0', 'Yellow', '2.6', '58', 'Lemon'],\n",
       "       ['0.0', '0.0', '1.0', 'Yellow', '2.9', '53', 'Lemon'],\n",
       "       ['0.0', '0.0', '1.0', 'Yellow', '3', '98', 'Apple'],\n",
       "       ['0.0', '0.0', '1.0', 'Yellow', '3.2', '64', 'Lemon'],\n",
       "       ['0.0', '0.0', '1.0', 'Yellow', '4.1', '135', 'Pear'],\n",
       "       ['0.0', '0.0', '1.0', 'Yellow', '4.1', '56', 'Lemon'],\n",
       "       ['0.0', '0.0', '1.0', 'Yellow', '4.1', '80', 'Apple'],\n",
       "       ['0.0', '0.0', '1.0', 'Yellow', '4.2', '105', 'Pear'],\n",
       "       ['0.0', '0.0', '1.0', 'Yellow', '5.2', '141', 'Pear'],\n",
       "       ['0.0', '0.0', '1.0', 'Yellow', '5.2', '142', 'Pear']],\n",
       "      dtype='<U32')"
      ]
     },
     "execution_count": 43,
     "metadata": {},
     "output_type": "execute_result"
    }
   ],
   "source": [
    "Results"
   ]
  },
  {
   "cell_type": "markdown",
   "metadata": {},
   "source": [
    "---\n",
    "### (d)"
   ]
  },
  {
   "cell_type": "code",
   "execution_count": 44,
   "metadata": {},
   "outputs": [],
   "source": [
    "Radius = data[1:,1]\n",
    "Weight = data[1:,2]"
   ]
  },
  {
   "cell_type": "code",
   "execution_count": 45,
   "metadata": {},
   "outputs": [],
   "source": [
    "Maximum = 0\n",
    "for i in range(len(Radius)):\n",
    "    if Radius[i].astype(float) > Maximum:\n",
    "        Maximum = Radius[i].astype(float)\n",
    "\n",
    "    \n",
    "Minimum = Maximum\n",
    "for i in range(len(Radius)):\n",
    "    if Radius[i].astype(float) < Minimum:\n",
    "        Minimum = Radius[i].astype(float)"
   ]
  },
  {
   "cell_type": "code",
   "execution_count": 46,
   "metadata": {},
   "outputs": [
    {
     "name": "stdout",
     "output_type": "stream",
     "text": [
      "5.2 2.1\n"
     ]
    }
   ],
   "source": [
    "print(Maximum,Minimum)"
   ]
  },
  {
   "cell_type": "code",
   "execution_count": 47,
   "metadata": {},
   "outputs": [],
   "source": [
    "Maximumweight = 0\n",
    "for i in range(len(Weight)):\n",
    "    if Weight[i].astype(float) > Maximumweight:\n",
    "        Maximumweight = Weight[i].astype(float)\n",
    "        \n",
    "Minimumweight = Maximumweight\n",
    "for i in range(len(Weight)):\n",
    "    if Weight[i].astype(float) < Minimumweight:\n",
    "        Minimumweight = Weight[i].astype(float)"
   ]
  },
  {
   "cell_type": "code",
   "execution_count": 48,
   "metadata": {},
   "outputs": [
    {
     "name": "stdout",
     "output_type": "stream",
     "text": [
      "173.0 40.0\n"
     ]
    }
   ],
   "source": [
    "print(Maximumweight, Minimumweight)"
   ]
  },
  {
   "cell_type": "code",
   "execution_count": 49,
   "metadata": {},
   "outputs": [],
   "source": [
    "Radiuscolumn = []\n",
    "for i in data[1:,1]:\n",
    "    Radiuscolumn.append(((i.astype(float))-Minimum)/(Maximum-Minimum))"
   ]
  },
  {
   "cell_type": "code",
   "execution_count": 50,
   "metadata": {},
   "outputs": [],
   "source": [
    "Weightcolumn = []\n",
    "for i in data[1:,1]:\n",
    "    Weightcolumn.append(((i.astype(float))-Minimumweight)/(Maximumweight-Minimumweight))"
   ]
  },
  {
   "cell_type": "code",
   "execution_count": 51,
   "metadata": {},
   "outputs": [],
   "source": [
    "data[1:,1] = Radiuscolumn\n",
    "data[1:,2] = Weightcolumn"
   ]
  },
  {
   "cell_type": "code",
   "execution_count": 52,
   "metadata": {},
   "outputs": [
    {
     "data": {
      "text/plain": [
       "array([['Color', 'Radius (cm)', 'Weight (grams)', 'Fruit (class)'],\n",
       "       ['Green', '0.709677419354', '-0.26842105263', 'Pear'],\n",
       "       ['Green', '0.806451612903', '-0.26616541353', 'Pear'],\n",
       "       ['Green', '0.322580645161', '-0.27744360902', 'Apple'],\n",
       "       ['Green', '0.483870967741', '-0.27368421052', 'Pear'],\n",
       "       ['Green', '0.129032258064', '-0.28195488721', 'Lemon'],\n",
       "       ['Green', '0.129032258064', '-0.28195488721', 'Apple'],\n",
       "       ['Green', '0.193548387096', '-0.28045112781', 'Apple'],\n",
       "       ['Green', '0.774193548387', '-0.26691729323', 'Pear'],\n",
       "       ['Green', '0.129032258064', '-0.28195488721', 'Apple'],\n",
       "       ['Green', '0.096774193548', '-0.28270676691', 'Lemon'],\n",
       "       ['Green', '0.677419354838', '-0.26917293233', 'Pear'],\n",
       "       ['Red', '0.516129032258', '-0.27293233082', 'Apple'],\n",
       "       ['Red', '0.516129032258', '-0.27293233082', 'Apple'],\n",
       "       ['Red', '0.419354838709', '-0.27518796992', 'Apple'],\n",
       "       ['Red', '0.354838709677', '-0.27669172932', 'Apple'],\n",
       "       ['Red', '0.322580645161', '-0.27744360902', 'Lemon'],\n",
       "       ['Yellow', '0.0', '-0.28496240601', 'Apple'],\n",
       "       ['Yellow', '0.161290322580', '-0.28120300751', 'Lemon'],\n",
       "       ['Yellow', '0.0', '-0.28496240601', 'Lemon'],\n",
       "       ['Yellow', '0.064516129032', '-0.28345864661', 'Lemon'],\n",
       "       ['Yellow', '0.677419354838', '-0.26917293233', 'Pear'],\n",
       "       ['Yellow', '0.0', '-0.28496240601', 'Lemon'],\n",
       "       ['Yellow', '0.354838709677', '-0.27669172932', 'Lemon'],\n",
       "       ['Yellow', '0.258064516129', '-0.27894736842', 'Lemon'],\n",
       "       ['Yellow', '0.645161290322', '-0.26992481203', 'Pear'],\n",
       "       ['Yellow', '1.0', '-0.26165413533', 'Pear'],\n",
       "       ['Yellow', '0.064516129032', '-0.28345864661', 'Lemon'],\n",
       "       ['Yellow', '0.612903225806', '-0.27067669172', 'Pear'],\n",
       "       ['Yellow', '0.290322580645', '-0.27819548872', 'Apple'],\n",
       "       ['Yellow', '0.096774193548', '-0.28270676691', 'Lemon'],\n",
       "       ['Yellow', '0.645161290322', '-0.26992481203', 'Lemon'],\n",
       "       ['Yellow', '0.645161290322', '-0.26992481203', 'Apple'],\n",
       "       ['Yellow', '1.0', '-0.26165413533', 'Pear']], dtype='<U14')"
      ]
     },
     "execution_count": 52,
     "metadata": {},
     "output_type": "execute_result"
    }
   ],
   "source": [
    "data"
   ]
  },
  {
   "cell_type": "markdown",
   "metadata": {},
   "source": [
    "---"
   ]
  }
 ],
 "metadata": {
  "kernelspec": {
   "display_name": "Python 3",
   "language": "python",
   "name": "python3"
  },
  "language_info": {
   "codemirror_mode": {
    "name": "ipython",
    "version": 3
   },
   "file_extension": ".py",
   "mimetype": "text/x-python",
   "name": "python",
   "nbconvert_exporter": "python",
   "pygments_lexer": "ipython3",
   "version": "3.7.6"
  }
 },
 "nbformat": 4,
 "nbformat_minor": 4
}
